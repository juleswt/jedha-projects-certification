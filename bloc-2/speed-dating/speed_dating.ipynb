{
 "cells": [
  {
   "cell_type": "markdown",
   "metadata": {},
   "source": [
    "<img src=\"https://upload.wikimedia.org/wikipedia/commons/7/7c/Kaggle_logo.png\" alt=\"KAGGLE LOGO\" />\n",
    "\n",
    "# Speed Dating Experiment\n",
    "\n",
    "## *What attributes influence the selection of a romantic partner?*\n",
    "\n",
    "## Goals 🎯\n",
    "* Do a descriptive analysis of the main factors that influence getting a second appointment"
   ]
  },
  {
   "cell_type": "markdown",
   "metadata": {},
   "source": [
    "### Import libraries"
   ]
  },
  {
   "cell_type": "code",
   "execution_count": 1,
   "metadata": {},
   "outputs": [],
   "source": [
    "import pandas as pd\n",
    "import numpy as np\n",
    "import seaborn as sns\n",
    "import matplotlib.pyplot as plt\n",
    "import plotly.graph_objects as go\n",
    "import warnings\n",
    "\n",
    "from plotly.subplots import make_subplots\n",
    "\n",
    "warnings.filterwarnings(\"ignore\")"
   ]
  },
  {
   "cell_type": "markdown",
   "metadata": {},
   "source": [
    "### Import dataset"
   ]
  },
  {
   "cell_type": "code",
   "execution_count": 2,
   "metadata": {},
   "outputs": [
    {
     "data": {
      "text/html": [
       "<div>\n",
       "<style scoped>\n",
       "    .dataframe tbody tr th:only-of-type {\n",
       "        vertical-align: middle;\n",
       "    }\n",
       "\n",
       "    .dataframe tbody tr th {\n",
       "        vertical-align: top;\n",
       "    }\n",
       "\n",
       "    .dataframe thead th {\n",
       "        text-align: right;\n",
       "    }\n",
       "</style>\n",
       "<table border=\"1\" class=\"dataframe\">\n",
       "  <thead>\n",
       "    <tr style=\"text-align: right;\">\n",
       "      <th>col_0</th>\n",
       "      <th>count</th>\n",
       "    </tr>\n",
       "    <tr>\n",
       "      <th>match</th>\n",
       "      <th></th>\n",
       "    </tr>\n",
       "  </thead>\n",
       "  <tbody>\n",
       "    <tr>\n",
       "      <th>0</th>\n",
       "      <td>6998</td>\n",
       "    </tr>\n",
       "    <tr>\n",
       "      <th>1</th>\n",
       "      <td>1380</td>\n",
       "    </tr>\n",
       "  </tbody>\n",
       "</table>\n",
       "</div>"
      ],
      "text/plain": [
       "col_0  count\n",
       "match       \n",
       "0       6998\n",
       "1       1380"
      ]
     },
     "execution_count": 2,
     "metadata": {},
     "output_type": "execute_result"
    }
   ],
   "source": [
    "dataset = pd.read_csv(\"src/speed_dating_data.csv\", encoding=\"ISO-8859-1\")\n",
    "pd.crosstab(index=dataset[\"match\"], columns=\"count\")"
   ]
  },
  {
   "cell_type": "markdown",
   "metadata": {},
   "source": [
    "#### **Question 1**\n",
    "\n",
    "> - What are the least desirable attributes in a male partner? Does this differ for female partners?<br>\n",
    "> - How important do people think attractiveness is in potential mate selection vs. its real impact?<br>\n",
    "\n",
    "*Evaluation of attributes according to the TIME PERIODS (before & after the event) and QUESTIONS asked to the participants:*\n",
    "\n",
    "> - Question 1: What are you looking for in the opposite sex?<br>\n",
    "> - Question 4: What do you think most of your fellow (men/women) is looking for in the opposite sex?<br>\n",
    "> - Question 2: What do you think the opposite sex is looking for in a date?<br>"
   ]
  },
  {
   "cell_type": "code",
   "execution_count": 3,
   "metadata": {},
   "outputs": [],
   "source": [
    "# attribute evaluation function\n",
    "def evalutation_attribut(df, time_period, question):\n",
    "    attribut = [\"attr\", \"sinc\", \"intel\", \"fun\", \"amb\", \"shar\"]\n",
    "    attribut_column = [col for col in dataset.columns if col.endswith(question+time_period)]\n",
    "    attribut_column.insert(0, \"iid\")\n",
    "    \n",
    "    df = df[attribut_column]\n",
    "    df.drop_duplicates(inplace=True)\n",
    "    df.drop([\"iid\"], axis=1, inplace=True)\n",
    "    \n",
    "    attribut_mean = []\n",
    "    for i in range(6):\n",
    "        attribut_mean.append(df[attribut[i]+question+time_period].sum()/len(df))\n",
    "    \n",
    "    attribut_mean += attribut_mean[:1]\n",
    "    return attribut_mean\n",
    "\n",
    "# polar subplot function\n",
    "def create_polar():\n",
    "    fig = make_subplots(\n",
    "        rows=3, cols=3,\n",
    "        specs=[\n",
    "            # [{\"type\": \"polar\", \"t\": 0.1}],\n",
    "            [{\"type\": \"polar\"}, {\"type\": \"polar\"}, {\"type\": \"polar\"}],\n",
    "            [{\"type\": \"polar\"}, {\"type\": \"polar\"}, {\"type\": \"polar\"}],\n",
    "            [{\"type\": \"polar\"}, {\"type\": \"polar\"}, {\"type\": \"polar\"}]\n",
    "        ],\n",
    "        column_titles=[\"Matched\", \"Gender\", \"Gender/Matched\"],\n",
    "        row_titles=[\"Q1\", \"Q4\", \"Q2\"],\n",
    "        vertical_spacing=0.28/3,\n",
    "        horizontal_spacing=0.25/3\n",
    "    )\n",
    "    \n",
    "    for annotation in fig['layout']['annotations']:\n",
    "        annotation['textangle']=0\n",
    "    \n",
    "    x = 0.02\n",
    "    for i in range(3):\n",
    "        fig['layout']['annotations'][i]['x'] = x\n",
    "        fig['layout']['annotations'][i]['y'] = 0.98\n",
    "        fig['layout']['annotations'][i]['font']['size'] = 18\n",
    "        fig['layout']['annotations'][i+3]['x'] = 0\n",
    "        x += 0.35\n",
    "    \n",
    "    fig.update_polars(\n",
    "        radialaxis_range=list([0, 36]),\n",
    "        radialaxis_angle=0,\n",
    "        radialaxis_tickangle=0,\n",
    "        radialaxis_nticks=4,\n",
    "        angularaxis_direction=\"clockwise\"\n",
    "    )\n",
    "\n",
    "    return fig\n",
    "\n",
    "# preparing different dataset based on gender and/or match\n",
    "match = dataset.loc[dataset[\"match\"] == 1]\n",
    "\n",
    "male = dataset.loc[dataset[\"gender\"] == 1]\n",
    "male_match = male.loc[male[\"match\"] == 1]\n",
    "\n",
    "female = dataset.loc[dataset[\"gender\"] == 0]\n",
    "female_match = female.loc[female[\"match\"] == 1]\n",
    "\n",
    "# scatterpolar graphic\n",
    "attribut = [\"Attractive\", \"Sincere\", \"Intelligent\", \"Fun\", \"Ambitious\", \"Interests\"]\n",
    "attribut += attribut[:1]"
   ]
  },
  {
   "cell_type": "code",
   "execution_count": 4,
   "metadata": {},
   "outputs": [
    {
     "data": {
      "application/vnd.plotly.v1+json": {
       "config": {
        "plotlyServerURL": "https://plot.ly"
       },
       "data": [
        {
         "fill": "toself",
         "mode": "lines+markers",
         "name": "Match 11",
         "r": [
          22.341814159292035,
          16.88420353982301,
          20.104225663716814,
          17.273185840707963,
          10.64179203539823,
          11.52287610619469,
          22.341814159292035
         ],
         "subplot": "polar",
         "theta": [
          "Attractive",
          "Sincere",
          "Intelligent",
          "Fun",
          "Ambitious",
          "Interests",
          "Attractive"
         ],
         "type": "scatterpolar"
        },
        {
         "fill": "toself",
         "mode": "lines+markers",
         "name": "Male 11",
         "opacity": 0.8,
         "r": [
          27.05205776173285,
          16.2613357400722,
          19.247436823104696,
          17.410216606498196,
          8.69653429602888,
          10.823682310469314,
          27.05205776173285
         ],
         "subplot": "polar2",
         "theta": [
          "Attractive",
          "Sincere",
          "Intelligent",
          "Fun",
          "Ambitious",
          "Interests",
          "Attractive"
         ],
         "type": "scatterpolar"
        },
        {
         "fill": "toself",
         "mode": "lines+markers",
         "name": "Male Match 11",
         "opacity": 0.8,
         "r": [
          27.23090909090909,
          15.7108658008658,
          19.464718614718617,
          17.43991341991342,
          8.799696969696969,
          10.652987012987014,
          27.23090909090909
         ],
         "subplot": "polar3",
         "theta": [
          "Attractive",
          "Sincere",
          "Intelligent",
          "Fun",
          "Ambitious",
          "Interests",
          "Attractive"
         ],
         "type": "scatterpolar"
        },
        {
         "fill": "toself",
         "mode": "lines+markers",
         "name": "Match 14",
         "r": [
          20.103982300884955,
          8.097345132743364,
          9.555309734513274,
          11.827433628318584,
          7.227876106194691,
          8.345132743362832,
          20.103982300884955
         ],
         "subplot": "polar4",
         "theta": [
          "Attractive",
          "Sincere",
          "Intelligent",
          "Fun",
          "Ambitious",
          "Interests",
          "Attractive"
         ],
         "type": "scatterpolar"
        },
        {
         "fill": "toself",
         "mode": "lines+markers",
         "name": "Male 14",
         "opacity": 0.8,
         "r": [
          21.56678700361011,
          8.205776173285198,
          9.180505415162456,
          12.296028880866427,
          5.873646209386282,
          8.259927797833935,
          21.56678700361011
         ],
         "subplot": "polar5",
         "theta": [
          "Attractive",
          "Sincere",
          "Intelligent",
          "Fun",
          "Ambitious",
          "Interests",
          "Attractive"
         ],
         "type": "scatterpolar"
        },
        {
         "fill": "toself",
         "mode": "lines+markers",
         "name": "Male Match 14",
         "opacity": 0.8,
         "r": [
          22.11255411255411,
          8.121212121212121,
          9.333333333333334,
          12.476190476190476,
          5.813852813852814,
          8.212121212121213,
          22.11255411255411
         ],
         "subplot": "polar6",
         "theta": [
          "Attractive",
          "Sincere",
          "Intelligent",
          "Fun",
          "Ambitious",
          "Interests",
          "Attractive"
         ],
         "type": "scatterpolar"
        },
        {
         "fill": "toself",
         "mode": "lines+markers",
         "name": "Match 12",
         "r": [
          29.637101769911506,
          13.006681415929204,
          14.525221238938052,
          18.29767699115044,
          11.6816592920354,
          11.586924778761063,
          29.637101769911506
         ],
         "subplot": "polar7",
         "theta": [
          "Attractive",
          "Sincere",
          "Intelligent",
          "Fun",
          "Ambitious",
          "Interests",
          "Attractive"
         ],
         "type": "scatterpolar"
        },
        {
         "fill": "toself",
         "mode": "lines+markers",
         "name": "Male 12",
         "opacity": 0.8,
         "r": [
          24.831624548736464,
          15.017039711191337,
          16.21324909747292,
          17.88509025270758,
          14.201985559566786,
          11.043429602888086,
          24.831624548736464
         ],
         "subplot": "polar8",
         "theta": [
          "Attractive",
          "Sincere",
          "Intelligent",
          "Fun",
          "Ambitious",
          "Interests",
          "Attractive"
         ],
         "type": "scatterpolar"
        },
        {
         "fill": "toself",
         "mode": "lines+markers",
         "name": "Male Match 12",
         "opacity": 0.8,
         "r": [
          25.028268398268402,
          14.745367965367965,
          16.354588744588742,
          17.78099567099567,
          14.401861471861471,
          10.806926406926408,
          25.028268398268402
         ],
         "subplot": "polar9",
         "theta": [
          "Attractive",
          "Sincere",
          "Intelligent",
          "Fun",
          "Ambitious",
          "Interests",
          "Attractive"
         ],
         "type": "scatterpolar"
        },
        {
         "fill": "toself",
         "mode": "lines+markers",
         "name": "Female 11",
         "opacity": 1,
         "r": [
          17.691532846715326,
          17.88970802919708,
          20.588321167883212,
          16.983430656934306,
          12.584562043795621,
          12.41978102189781,
          17.691532846715326
         ],
         "subplot": "polar2",
         "theta": [
          "Attractive",
          "Sincere",
          "Intelligent",
          "Fun",
          "Ambitious",
          "Interests",
          "Attractive"
         ],
         "type": "scatterpolar"
        },
        {
         "fill": "toself",
         "mode": "lines+markers",
         "name": "Female Match 11",
         "opacity": 1,
         "r": [
          17.231493212669683,
          18.110633484162896,
          20.77266968325792,
          17.09891402714932,
          12.567239819004525,
          12.43212669683258,
          17.231493212669683
         ],
         "subplot": "polar3",
         "theta": [
          "Attractive",
          "Sincere",
          "Intelligent",
          "Fun",
          "Ambitious",
          "Interests",
          "Attractive"
         ],
         "type": "scatterpolar"
        },
        {
         "fill": "toself",
         "mode": "lines+markers",
         "name": "Female 14",
         "opacity": 1,
         "r": [
          18.306569343065693,
          8.562043795620438,
          9.813868613138686,
          11.328467153284672,
          8.912408759124087,
          8.357664233576642,
          18.306569343065693
         ],
         "subplot": "polar5",
         "theta": [
          "Attractive",
          "Sincere",
          "Intelligent",
          "Fun",
          "Ambitious",
          "Interests",
          "Attractive"
         ],
         "type": "scatterpolar"
        },
        {
         "fill": "toself",
         "mode": "lines+markers",
         "name": "Female Match 14",
         "opacity": 1,
         "r": [
          18.004524886877828,
          8.072398190045249,
          9.787330316742082,
          11.149321266968325,
          8.705882352941176,
          8.484162895927602,
          18.004524886877828
         ],
         "subplot": "polar6",
         "theta": [
          "Attractive",
          "Sincere",
          "Intelligent",
          "Fun",
          "Ambitious",
          "Interests",
          "Attractive"
         ],
         "type": "scatterpolar"
        },
        {
         "fill": "toself",
         "mode": "lines+markers",
         "name": "Female 12",
         "opacity": 1,
         "r": [
          34.95098540145985,
          11.078613138686132,
          12.2507299270073,
          18.703978102189783,
          8.948065693430657,
          12.396350364963503,
          34.95098540145985
         ],
         "subplot": "polar8",
         "theta": [
          "Attractive",
          "Sincere",
          "Intelligent",
          "Fun",
          "Ambitious",
          "Interests",
          "Attractive"
         ],
         "type": "scatterpolar"
        },
        {
         "fill": "toself",
         "mode": "lines+markers",
         "name": "Female Match 12",
         "opacity": 1,
         "r": [
          34.454479638009055,
          11.189321266968326,
          12.613076923076923,
          18.837737556561088,
          8.838371040723981,
          12.402217194570138,
          34.454479638009055
         ],
         "subplot": "polar9",
         "theta": [
          "Attractive",
          "Sincere",
          "Intelligent",
          "Fun",
          "Ambitious",
          "Interests",
          "Attractive"
         ],
         "type": "scatterpolar"
        }
       ],
       "layout": {
        "annotations": [
         {
          "font": {
           "size": 18
          },
          "showarrow": false,
          "text": "Matched",
          "textangle": 0,
          "x": 0.02,
          "xanchor": "center",
          "xref": "paper",
          "y": 0.98,
          "yanchor": "bottom",
          "yref": "paper"
         },
         {
          "font": {
           "size": 18
          },
          "showarrow": false,
          "text": "Gender",
          "textangle": 0,
          "x": 0.37,
          "xanchor": "center",
          "xref": "paper",
          "y": 0.98,
          "yanchor": "bottom",
          "yref": "paper"
         },
         {
          "font": {
           "size": 18
          },
          "showarrow": false,
          "text": "Gender/Matched",
          "textangle": 0,
          "x": 0.72,
          "xanchor": "center",
          "xref": "paper",
          "y": 0.98,
          "yanchor": "bottom",
          "yref": "paper"
         },
         {
          "font": {
           "size": 16
          },
          "showarrow": false,
          "text": "Q1",
          "textangle": 0,
          "x": 0,
          "xanchor": "left",
          "xref": "paper",
          "y": 0.8644444444444445,
          "yanchor": "middle",
          "yref": "paper"
         },
         {
          "font": {
           "size": 16
          },
          "showarrow": false,
          "text": "Q4",
          "textangle": 0,
          "x": 0,
          "xanchor": "left",
          "xref": "paper",
          "y": 0.5,
          "yanchor": "middle",
          "yref": "paper"
         },
         {
          "font": {
           "size": 16
          },
          "showarrow": false,
          "text": "Q2",
          "textangle": 0,
          "x": 0,
          "xanchor": "left",
          "xref": "paper",
          "y": 0.13555555555555557,
          "yanchor": "middle",
          "yref": "paper"
         }
        ],
        "height": 1000,
        "polar": {
         "angularaxis": {
          "direction": "clockwise"
         },
         "domain": {
          "x": [
           0,
           0.27111111111111114
          ],
          "y": [
           0.7288888888888889,
           1
          ]
         },
         "radialaxis": {
          "angle": 0,
          "nticks": 4,
          "range": [
           0,
           36
          ],
          "tickangle": 0
         }
        },
        "polar2": {
         "angularaxis": {
          "direction": "clockwise"
         },
         "domain": {
          "x": [
           0.35444444444444445,
           0.6255555555555556
          ],
          "y": [
           0.7288888888888889,
           1
          ]
         },
         "radialaxis": {
          "angle": 0,
          "nticks": 4,
          "range": [
           0,
           36
          ],
          "tickangle": 0
         }
        },
        "polar3": {
         "angularaxis": {
          "direction": "clockwise"
         },
         "domain": {
          "x": [
           0.7088888888888889,
           0.98
          ],
          "y": [
           0.7288888888888889,
           1
          ]
         },
         "radialaxis": {
          "angle": 0,
          "nticks": 4,
          "range": [
           0,
           36
          ],
          "tickangle": 0
         }
        },
        "polar4": {
         "angularaxis": {
          "direction": "clockwise"
         },
         "domain": {
          "x": [
           0,
           0.27111111111111114
          ],
          "y": [
           0.36444444444444446,
           0.6355555555555557
          ]
         },
         "radialaxis": {
          "angle": 0,
          "nticks": 4,
          "range": [
           0,
           36
          ],
          "tickangle": 0
         }
        },
        "polar5": {
         "angularaxis": {
          "direction": "clockwise"
         },
         "domain": {
          "x": [
           0.35444444444444445,
           0.6255555555555556
          ],
          "y": [
           0.36444444444444446,
           0.6355555555555557
          ]
         },
         "radialaxis": {
          "angle": 0,
          "nticks": 4,
          "range": [
           0,
           36
          ],
          "tickangle": 0
         }
        },
        "polar6": {
         "angularaxis": {
          "direction": "clockwise"
         },
         "domain": {
          "x": [
           0.7088888888888889,
           0.98
          ],
          "y": [
           0.36444444444444446,
           0.6355555555555557
          ]
         },
         "radialaxis": {
          "angle": 0,
          "nticks": 4,
          "range": [
           0,
           36
          ],
          "tickangle": 0
         }
        },
        "polar7": {
         "angularaxis": {
          "direction": "clockwise"
         },
         "domain": {
          "x": [
           0,
           0.27111111111111114
          ],
          "y": [
           0,
           0.27111111111111114
          ]
         },
         "radialaxis": {
          "angle": 0,
          "nticks": 4,
          "range": [
           0,
           36
          ],
          "tickangle": 0
         }
        },
        "polar8": {
         "angularaxis": {
          "direction": "clockwise"
         },
         "domain": {
          "x": [
           0.35444444444444445,
           0.6255555555555556
          ],
          "y": [
           0,
           0.27111111111111114
          ]
         },
         "radialaxis": {
          "angle": 0,
          "nticks": 4,
          "range": [
           0,
           36
          ],
          "tickangle": 0
         }
        },
        "polar9": {
         "angularaxis": {
          "direction": "clockwise"
         },
         "domain": {
          "x": [
           0.7088888888888889,
           0.98
          ],
          "y": [
           0,
           0.27111111111111114
          ]
         },
         "radialaxis": {
          "angle": 0,
          "nticks": 4,
          "range": [
           0,
           36
          ],
          "tickangle": 0
         }
        },
        "showlegend": true,
        "template": {
         "data": {
          "bar": [
           {
            "error_x": {
             "color": "#2a3f5f"
            },
            "error_y": {
             "color": "#2a3f5f"
            },
            "marker": {
             "line": {
              "color": "#E5ECF6",
              "width": 0.5
             },
             "pattern": {
              "fillmode": "overlay",
              "size": 10,
              "solidity": 0.2
             }
            },
            "type": "bar"
           }
          ],
          "barpolar": [
           {
            "marker": {
             "line": {
              "color": "#E5ECF6",
              "width": 0.5
             },
             "pattern": {
              "fillmode": "overlay",
              "size": 10,
              "solidity": 0.2
             }
            },
            "type": "barpolar"
           }
          ],
          "carpet": [
           {
            "aaxis": {
             "endlinecolor": "#2a3f5f",
             "gridcolor": "white",
             "linecolor": "white",
             "minorgridcolor": "white",
             "startlinecolor": "#2a3f5f"
            },
            "baxis": {
             "endlinecolor": "#2a3f5f",
             "gridcolor": "white",
             "linecolor": "white",
             "minorgridcolor": "white",
             "startlinecolor": "#2a3f5f"
            },
            "type": "carpet"
           }
          ],
          "choropleth": [
           {
            "colorbar": {
             "outlinewidth": 0,
             "ticks": ""
            },
            "type": "choropleth"
           }
          ],
          "contour": [
           {
            "colorbar": {
             "outlinewidth": 0,
             "ticks": ""
            },
            "colorscale": [
             [
              0,
              "#0d0887"
             ],
             [
              0.1111111111111111,
              "#46039f"
             ],
             [
              0.2222222222222222,
              "#7201a8"
             ],
             [
              0.3333333333333333,
              "#9c179e"
             ],
             [
              0.4444444444444444,
              "#bd3786"
             ],
             [
              0.5555555555555556,
              "#d8576b"
             ],
             [
              0.6666666666666666,
              "#ed7953"
             ],
             [
              0.7777777777777778,
              "#fb9f3a"
             ],
             [
              0.8888888888888888,
              "#fdca26"
             ],
             [
              1,
              "#f0f921"
             ]
            ],
            "type": "contour"
           }
          ],
          "contourcarpet": [
           {
            "colorbar": {
             "outlinewidth": 0,
             "ticks": ""
            },
            "type": "contourcarpet"
           }
          ],
          "heatmap": [
           {
            "colorbar": {
             "outlinewidth": 0,
             "ticks": ""
            },
            "colorscale": [
             [
              0,
              "#0d0887"
             ],
             [
              0.1111111111111111,
              "#46039f"
             ],
             [
              0.2222222222222222,
              "#7201a8"
             ],
             [
              0.3333333333333333,
              "#9c179e"
             ],
             [
              0.4444444444444444,
              "#bd3786"
             ],
             [
              0.5555555555555556,
              "#d8576b"
             ],
             [
              0.6666666666666666,
              "#ed7953"
             ],
             [
              0.7777777777777778,
              "#fb9f3a"
             ],
             [
              0.8888888888888888,
              "#fdca26"
             ],
             [
              1,
              "#f0f921"
             ]
            ],
            "type": "heatmap"
           }
          ],
          "heatmapgl": [
           {
            "colorbar": {
             "outlinewidth": 0,
             "ticks": ""
            },
            "colorscale": [
             [
              0,
              "#0d0887"
             ],
             [
              0.1111111111111111,
              "#46039f"
             ],
             [
              0.2222222222222222,
              "#7201a8"
             ],
             [
              0.3333333333333333,
              "#9c179e"
             ],
             [
              0.4444444444444444,
              "#bd3786"
             ],
             [
              0.5555555555555556,
              "#d8576b"
             ],
             [
              0.6666666666666666,
              "#ed7953"
             ],
             [
              0.7777777777777778,
              "#fb9f3a"
             ],
             [
              0.8888888888888888,
              "#fdca26"
             ],
             [
              1,
              "#f0f921"
             ]
            ],
            "type": "heatmapgl"
           }
          ],
          "histogram": [
           {
            "marker": {
             "pattern": {
              "fillmode": "overlay",
              "size": 10,
              "solidity": 0.2
             }
            },
            "type": "histogram"
           }
          ],
          "histogram2d": [
           {
            "colorbar": {
             "outlinewidth": 0,
             "ticks": ""
            },
            "colorscale": [
             [
              0,
              "#0d0887"
             ],
             [
              0.1111111111111111,
              "#46039f"
             ],
             [
              0.2222222222222222,
              "#7201a8"
             ],
             [
              0.3333333333333333,
              "#9c179e"
             ],
             [
              0.4444444444444444,
              "#bd3786"
             ],
             [
              0.5555555555555556,
              "#d8576b"
             ],
             [
              0.6666666666666666,
              "#ed7953"
             ],
             [
              0.7777777777777778,
              "#fb9f3a"
             ],
             [
              0.8888888888888888,
              "#fdca26"
             ],
             [
              1,
              "#f0f921"
             ]
            ],
            "type": "histogram2d"
           }
          ],
          "histogram2dcontour": [
           {
            "colorbar": {
             "outlinewidth": 0,
             "ticks": ""
            },
            "colorscale": [
             [
              0,
              "#0d0887"
             ],
             [
              0.1111111111111111,
              "#46039f"
             ],
             [
              0.2222222222222222,
              "#7201a8"
             ],
             [
              0.3333333333333333,
              "#9c179e"
             ],
             [
              0.4444444444444444,
              "#bd3786"
             ],
             [
              0.5555555555555556,
              "#d8576b"
             ],
             [
              0.6666666666666666,
              "#ed7953"
             ],
             [
              0.7777777777777778,
              "#fb9f3a"
             ],
             [
              0.8888888888888888,
              "#fdca26"
             ],
             [
              1,
              "#f0f921"
             ]
            ],
            "type": "histogram2dcontour"
           }
          ],
          "mesh3d": [
           {
            "colorbar": {
             "outlinewidth": 0,
             "ticks": ""
            },
            "type": "mesh3d"
           }
          ],
          "parcoords": [
           {
            "line": {
             "colorbar": {
              "outlinewidth": 0,
              "ticks": ""
             }
            },
            "type": "parcoords"
           }
          ],
          "pie": [
           {
            "automargin": true,
            "type": "pie"
           }
          ],
          "scatter": [
           {
            "marker": {
             "colorbar": {
              "outlinewidth": 0,
              "ticks": ""
             }
            },
            "type": "scatter"
           }
          ],
          "scatter3d": [
           {
            "line": {
             "colorbar": {
              "outlinewidth": 0,
              "ticks": ""
             }
            },
            "marker": {
             "colorbar": {
              "outlinewidth": 0,
              "ticks": ""
             }
            },
            "type": "scatter3d"
           }
          ],
          "scattercarpet": [
           {
            "marker": {
             "colorbar": {
              "outlinewidth": 0,
              "ticks": ""
             }
            },
            "type": "scattercarpet"
           }
          ],
          "scattergeo": [
           {
            "marker": {
             "colorbar": {
              "outlinewidth": 0,
              "ticks": ""
             }
            },
            "type": "scattergeo"
           }
          ],
          "scattergl": [
           {
            "marker": {
             "colorbar": {
              "outlinewidth": 0,
              "ticks": ""
             }
            },
            "type": "scattergl"
           }
          ],
          "scattermapbox": [
           {
            "marker": {
             "colorbar": {
              "outlinewidth": 0,
              "ticks": ""
             }
            },
            "type": "scattermapbox"
           }
          ],
          "scatterpolar": [
           {
            "marker": {
             "colorbar": {
              "outlinewidth": 0,
              "ticks": ""
             }
            },
            "type": "scatterpolar"
           }
          ],
          "scatterpolargl": [
           {
            "marker": {
             "colorbar": {
              "outlinewidth": 0,
              "ticks": ""
             }
            },
            "type": "scatterpolargl"
           }
          ],
          "scatterternary": [
           {
            "marker": {
             "colorbar": {
              "outlinewidth": 0,
              "ticks": ""
             }
            },
            "type": "scatterternary"
           }
          ],
          "surface": [
           {
            "colorbar": {
             "outlinewidth": 0,
             "ticks": ""
            },
            "colorscale": [
             [
              0,
              "#0d0887"
             ],
             [
              0.1111111111111111,
              "#46039f"
             ],
             [
              0.2222222222222222,
              "#7201a8"
             ],
             [
              0.3333333333333333,
              "#9c179e"
             ],
             [
              0.4444444444444444,
              "#bd3786"
             ],
             [
              0.5555555555555556,
              "#d8576b"
             ],
             [
              0.6666666666666666,
              "#ed7953"
             ],
             [
              0.7777777777777778,
              "#fb9f3a"
             ],
             [
              0.8888888888888888,
              "#fdca26"
             ],
             [
              1,
              "#f0f921"
             ]
            ],
            "type": "surface"
           }
          ],
          "table": [
           {
            "cells": {
             "fill": {
              "color": "#EBF0F8"
             },
             "line": {
              "color": "white"
             }
            },
            "header": {
             "fill": {
              "color": "#C8D4E3"
             },
             "line": {
              "color": "white"
             }
            },
            "type": "table"
           }
          ]
         },
         "layout": {
          "annotationdefaults": {
           "arrowcolor": "#2a3f5f",
           "arrowhead": 0,
           "arrowwidth": 1
          },
          "autotypenumbers": "strict",
          "coloraxis": {
           "colorbar": {
            "outlinewidth": 0,
            "ticks": ""
           }
          },
          "colorscale": {
           "diverging": [
            [
             0,
             "#8e0152"
            ],
            [
             0.1,
             "#c51b7d"
            ],
            [
             0.2,
             "#de77ae"
            ],
            [
             0.3,
             "#f1b6da"
            ],
            [
             0.4,
             "#fde0ef"
            ],
            [
             0.5,
             "#f7f7f7"
            ],
            [
             0.6,
             "#e6f5d0"
            ],
            [
             0.7,
             "#b8e186"
            ],
            [
             0.8,
             "#7fbc41"
            ],
            [
             0.9,
             "#4d9221"
            ],
            [
             1,
             "#276419"
            ]
           ],
           "sequential": [
            [
             0,
             "#0d0887"
            ],
            [
             0.1111111111111111,
             "#46039f"
            ],
            [
             0.2222222222222222,
             "#7201a8"
            ],
            [
             0.3333333333333333,
             "#9c179e"
            ],
            [
             0.4444444444444444,
             "#bd3786"
            ],
            [
             0.5555555555555556,
             "#d8576b"
            ],
            [
             0.6666666666666666,
             "#ed7953"
            ],
            [
             0.7777777777777778,
             "#fb9f3a"
            ],
            [
             0.8888888888888888,
             "#fdca26"
            ],
            [
             1,
             "#f0f921"
            ]
           ],
           "sequentialminus": [
            [
             0,
             "#0d0887"
            ],
            [
             0.1111111111111111,
             "#46039f"
            ],
            [
             0.2222222222222222,
             "#7201a8"
            ],
            [
             0.3333333333333333,
             "#9c179e"
            ],
            [
             0.4444444444444444,
             "#bd3786"
            ],
            [
             0.5555555555555556,
             "#d8576b"
            ],
            [
             0.6666666666666666,
             "#ed7953"
            ],
            [
             0.7777777777777778,
             "#fb9f3a"
            ],
            [
             0.8888888888888888,
             "#fdca26"
            ],
            [
             1,
             "#f0f921"
            ]
           ]
          },
          "colorway": [
           "#636efa",
           "#EF553B",
           "#00cc96",
           "#ab63fa",
           "#FFA15A",
           "#19d3f3",
           "#FF6692",
           "#B6E880",
           "#FF97FF",
           "#FECB52"
          ],
          "font": {
           "color": "#2a3f5f"
          },
          "geo": {
           "bgcolor": "white",
           "lakecolor": "white",
           "landcolor": "#E5ECF6",
           "showlakes": true,
           "showland": true,
           "subunitcolor": "white"
          },
          "hoverlabel": {
           "align": "left"
          },
          "hovermode": "closest",
          "mapbox": {
           "style": "light"
          },
          "paper_bgcolor": "white",
          "plot_bgcolor": "#E5ECF6",
          "polar": {
           "angularaxis": {
            "gridcolor": "white",
            "linecolor": "white",
            "ticks": ""
           },
           "bgcolor": "#E5ECF6",
           "radialaxis": {
            "gridcolor": "white",
            "linecolor": "white",
            "ticks": ""
           }
          },
          "scene": {
           "xaxis": {
            "backgroundcolor": "#E5ECF6",
            "gridcolor": "white",
            "gridwidth": 2,
            "linecolor": "white",
            "showbackground": true,
            "ticks": "",
            "zerolinecolor": "white"
           },
           "yaxis": {
            "backgroundcolor": "#E5ECF6",
            "gridcolor": "white",
            "gridwidth": 2,
            "linecolor": "white",
            "showbackground": true,
            "ticks": "",
            "zerolinecolor": "white"
           },
           "zaxis": {
            "backgroundcolor": "#E5ECF6",
            "gridcolor": "white",
            "gridwidth": 2,
            "linecolor": "white",
            "showbackground": true,
            "ticks": "",
            "zerolinecolor": "white"
           }
          },
          "shapedefaults": {
           "line": {
            "color": "#2a3f5f"
           }
          },
          "ternary": {
           "aaxis": {
            "gridcolor": "white",
            "linecolor": "white",
            "ticks": ""
           },
           "baxis": {
            "gridcolor": "white",
            "linecolor": "white",
            "ticks": ""
           },
           "bgcolor": "#E5ECF6",
           "caxis": {
            "gridcolor": "white",
            "linecolor": "white",
            "ticks": ""
           }
          },
          "title": {
           "x": 0.05
          },
          "xaxis": {
           "automargin": true,
           "gridcolor": "white",
           "linecolor": "white",
           "ticks": "",
           "title": {
            "standoff": 15
           },
           "zerolinecolor": "white",
           "zerolinewidth": 2
          },
          "yaxis": {
           "automargin": true,
           "gridcolor": "white",
           "linecolor": "white",
           "ticks": "",
           "title": {
            "standoff": 15
           },
           "zerolinecolor": "white",
           "zerolinewidth": 2
          }
         }
        },
        "title": {
         "text": "Before Event"
        }
       }
      }
     },
     "metadata": {},
     "output_type": "display_data"
    }
   ],
   "source": [
    "fig = create_polar()\n",
    "\n",
    "fig.add_traces(\n",
    "    [\n",
    "        go.Scatterpolar(r=evalutation_attribut(match, \"1\", \"1_\"), theta=attribut, fill=\"toself\", name=\"Match 11\", mode=\"lines+markers\"),\n",
    "        go.Scatterpolar(r=evalutation_attribut(male, \"1\", \"1_\"), theta=attribut, fill=\"toself\", name=\"Male 11\", opacity=0.8, mode=\"lines+markers\"),\n",
    "        go.Scatterpolar(r=evalutation_attribut(male_match, \"1\", \"1_\"), theta=attribut, fill=\"toself\", name=\"Male Match 11\", opacity=0.8, mode=\"lines+markers\"),\n",
    "        \n",
    "        go.Scatterpolar(r=evalutation_attribut(match, \"1\", \"4_\"), theta=attribut, fill=\"toself\", name=\"Match 14\", mode=\"lines+markers\"),\n",
    "        go.Scatterpolar(r=evalutation_attribut(male, \"1\", \"4_\"), theta=attribut, fill=\"toself\", name=\"Male 14\", opacity=0.8, mode=\"lines+markers\"),\n",
    "        go.Scatterpolar(r=evalutation_attribut(male_match, \"1\", \"4_\"), theta=attribut, fill=\"toself\", name=\"Male Match 14\", opacity=0.8, mode=\"lines+markers\"),\n",
    "        \n",
    "        go.Scatterpolar(r=evalutation_attribut(match, \"1\", \"2_\"), theta=attribut, fill=\"toself\", name=\"Match 12\", mode=\"lines+markers\"),\n",
    "        go.Scatterpolar(r=evalutation_attribut(male, \"1\", \"2_\"), theta=attribut, fill=\"toself\", name=\"Male 12\", opacity=0.8, mode=\"lines+markers\"),\n",
    "        go.Scatterpolar(r=evalutation_attribut(male_match, \"1\", \"2_\"), theta=attribut, fill=\"toself\", name=\"Male Match 12\", opacity=0.8, mode=\"lines+markers\")\n",
    "    ],\n",
    "    rows=[1, 1, 1, 2, 2, 2, 3, 3, 3], cols=[1, 2, 3, 1, 2, 3, 1, 2, 3]\n",
    ")\n",
    "\n",
    "fig.add_traces(\n",
    "    [\n",
    "        go.Scatterpolar(r=evalutation_attribut(female, \"1\", \"1_\"), theta=attribut, fill=\"toself\", name=\"Female 11\", opacity=1, mode=\"lines+markers\"),\n",
    "        go.Scatterpolar(r=evalutation_attribut(female_match, \"1\", \"1_\"), theta=attribut, fill=\"toself\", name=\"Female Match 11\", opacity=1, mode=\"lines+markers\"),\n",
    "        \n",
    "        go.Scatterpolar(r=evalutation_attribut(female, \"1\", \"4_\"), theta=attribut, fill=\"toself\", name=\"Female 14\", opacity=1, mode=\"lines+markers\"),\n",
    "        go.Scatterpolar(r=evalutation_attribut(female_match, \"1\", \"4_\"), theta=attribut, fill=\"toself\", name=\"Female Match 14\", opacity=1, mode=\"lines+markers\"),\n",
    "        \n",
    "        go.Scatterpolar(r=evalutation_attribut(female, \"1\", \"2_\"), theta=attribut, fill=\"toself\", name=\"Female 12\", opacity=1, mode=\"lines+markers\"),\n",
    "        go.Scatterpolar(r=evalutation_attribut(female_match, \"1\", \"2_\"), theta=attribut, fill=\"toself\", name=\"Female Match 12\", opacity=1, mode=\"lines+markers\")\n",
    "    ],\n",
    "    rows=[1, 1, 2, 2, 3, 3], cols=[2, 3, 2, 3, 2, 3]\n",
    ")\n",
    "\n",
    "fig.update_layout(height=1000, showlegend=True, title=\"Before Event\")"
   ]
  },
  {
   "cell_type": "code",
   "execution_count": 5,
   "metadata": {},
   "outputs": [
    {
     "data": {
      "application/vnd.plotly.v1+json": {
       "config": {
        "plotlyServerURL": "https://plot.ly"
       },
       "data": [
        {
         "fill": "toself",
         "mode": "lines+markers",
         "name": "Match 11",
         "r": [
          23.348805309734512,
          14.009646017699117,
          16.241261061946904,
          16.083805309734515,
          8.94504424778761,
          11.232389380530973,
          23.348805309734512
         ],
         "subplot": "polar",
         "theta": [
          "Attractive",
          "Sincere",
          "Intelligent",
          "Fun",
          "Ambitious",
          "Interests",
          "Attractive"
         ],
         "type": "scatterpolar"
        },
        {
         "fill": "toself",
         "mode": "lines+markers",
         "name": "Male 11",
         "opacity": 0.8,
         "r": [
          26.863898916967507,
          13.557833935018051,
          14.9372202166065,
          15.815451263537906,
          7.610974729241876,
          10.265234657039713,
          26.863898916967507
         ],
         "subplot": "polar2",
         "theta": [
          "Attractive",
          "Sincere",
          "Intelligent",
          "Fun",
          "Ambitious",
          "Interests",
          "Attractive"
         ],
         "type": "scatterpolar"
        },
        {
         "fill": "toself",
         "mode": "lines+markers",
         "name": "Male Match 11",
         "opacity": 0.8,
         "r": [
          27.103463203463203,
          13.225930735930737,
          15.206926406926408,
          16.27095238095238,
          7.808138528138527,
          10.285281385281385,
          27.103463203463203
         ],
         "subplot": "polar3",
         "theta": [
          "Attractive",
          "Sincere",
          "Intelligent",
          "Fun",
          "Ambitious",
          "Interests",
          "Attractive"
         ],
         "type": "scatterpolar"
        },
        {
         "fill": "toself",
         "mode": "lines+markers",
         "name": "Match 14",
         "r": [
          18.5,
          7.827433628318584,
          8.154867256637168,
          10.418141592920353,
          6.371681415929204,
          7.54424778761062,
          18.5
         ],
         "subplot": "polar4",
         "theta": [
          "Attractive",
          "Sincere",
          "Intelligent",
          "Fun",
          "Ambitious",
          "Interests",
          "Attractive"
         ],
         "type": "scatterpolar"
        },
        {
         "fill": "toself",
         "mode": "lines+markers",
         "name": "Male 14",
         "opacity": 0.8,
         "r": [
          19.768953068592058,
          7.451263537906137,
          7.51985559566787,
          10.71841155234657,
          5.555956678700361,
          7.350180505415162,
          19.768953068592058
         ],
         "subplot": "polar5",
         "theta": [
          "Attractive",
          "Sincere",
          "Intelligent",
          "Fun",
          "Ambitious",
          "Interests",
          "Attractive"
         ],
         "type": "scatterpolar"
        },
        {
         "fill": "toself",
         "mode": "lines+markers",
         "name": "Male Match 14",
         "opacity": 0.8,
         "r": [
          20.415584415584416,
          7.5064935064935066,
          7.688311688311688,
          11.134199134199134,
          5.536796536796537,
          7.3896103896103895,
          20.415584415584416
         ],
         "subplot": "polar6",
         "theta": [
          "Attractive",
          "Sincere",
          "Intelligent",
          "Fun",
          "Ambitious",
          "Interests",
          "Attractive"
         ],
         "type": "scatterpolar"
        },
        {
         "fill": "toself",
         "mode": "lines+markers",
         "name": "Match 12",
         "r": [
          19.90769911504425,
          9.399646017699116,
          9.801106194690266,
          12.205575221238938,
          8.344314159292036,
          8.605110619469027,
          19.90769911504425
         ],
         "subplot": "polar7",
         "theta": [
          "Attractive",
          "Sincere",
          "Intelligent",
          "Fun",
          "Ambitious",
          "Interests",
          "Attractive"
         ],
         "type": "scatterpolar"
        },
        {
         "fill": "toself",
         "mode": "lines+markers",
         "name": "Male 12",
         "opacity": 0.8,
         "r": [
          17.16740072202166,
          10.796859205776173,
          10.603682310469313,
          11.683212996389893,
          9.690758122743683,
          8.044187725631769,
          17.16740072202166
         ],
         "subplot": "polar8",
         "theta": [
          "Attractive",
          "Sincere",
          "Intelligent",
          "Fun",
          "Ambitious",
          "Interests",
          "Attractive"
         ],
         "type": "scatterpolar"
        },
        {
         "fill": "toself",
         "mode": "lines+markers",
         "name": "Male Match 12",
         "opacity": 0.8,
         "r": [
          17.644242424242425,
          10.832770562770563,
          11.05134199134199,
          11.988181818181818,
          10.133549783549784,
          8.056017316017316,
          17.644242424242425
         ],
         "subplot": "polar9",
         "theta": [
          "Attractive",
          "Sincere",
          "Intelligent",
          "Fun",
          "Ambitious",
          "Interests",
          "Attractive"
         ],
         "type": "scatterpolar"
        },
        {
         "fill": "toself",
         "mode": "lines+markers",
         "name": "Female 11",
         "opacity": 1,
         "r": [
          18.910693430656934,
          14.39868613138686,
          16.606240875912412,
          15.191934306569344,
          9.942883211678831,
          12.110656934306569,
          18.910693430656934
         ],
         "subplot": "polar2",
         "theta": [
          "Attractive",
          "Sincere",
          "Intelligent",
          "Fun",
          "Ambitious",
          "Interests",
          "Attractive"
         ],
         "type": "scatterpolar"
        },
        {
         "fill": "toself",
         "mode": "lines+markers",
         "name": "Female Match 11",
         "opacity": 1,
         "r": [
          19.42425339366516,
          14.828823529411766,
          17.32239819004525,
          15.88819004524887,
          10.133393665158371,
          12.22235294117647,
          19.42425339366516
         ],
         "subplot": "polar3",
         "theta": [
          "Attractive",
          "Sincere",
          "Intelligent",
          "Fun",
          "Ambitious",
          "Interests",
          "Attractive"
         ],
         "type": "scatterpolar"
        },
        {
         "fill": "toself",
         "mode": "lines+markers",
         "name": "Female 14",
         "opacity": 1,
         "r": [
          15.875912408759124,
          8.354014598540147,
          8.583941605839415,
          9.492700729927007,
          7,
          7.693430656934306,
          15.875912408759124
         ],
         "subplot": "polar5",
         "theta": [
          "Attractive",
          "Sincere",
          "Intelligent",
          "Fun",
          "Ambitious",
          "Interests",
          "Attractive"
         ],
         "type": "scatterpolar"
        },
        {
         "fill": "toself",
         "mode": "lines+markers",
         "name": "Female Match 14",
         "opacity": 1,
         "r": [
          16.497737556561084,
          8.16289592760181,
          8.642533936651583,
          9.669683257918551,
          7.244343891402715,
          7.705882352941177,
          16.497737556561084
         ],
         "subplot": "polar6",
         "theta": [
          "Attractive",
          "Sincere",
          "Intelligent",
          "Fun",
          "Ambitious",
          "Interests",
          "Attractive"
         ],
         "type": "scatterpolar"
        },
        {
         "fill": "toself",
         "mode": "lines+markers",
         "name": "Female 12",
         "opacity": 1,
         "r": [
          21.641715328467154,
          7.945328467153285,
          8.207043795620438,
          12.32934306569343,
          6.3542700729927,
          9.044379562043796,
          21.641715328467154
         ],
         "subplot": "polar8",
         "theta": [
          "Attractive",
          "Sincere",
          "Intelligent",
          "Fun",
          "Ambitious",
          "Interests",
          "Attractive"
         ],
         "type": "scatterpolar"
        },
        {
         "fill": "toself",
         "mode": "lines+markers",
         "name": "Female Match 12",
         "opacity": 1,
         "r": [
          22.273574660633486,
          7.901674208144796,
          8.494298642533938,
          12.432805429864256,
          6.474117647058823,
          9.179049773755654,
          22.273574660633486
         ],
         "subplot": "polar9",
         "theta": [
          "Attractive",
          "Sincere",
          "Intelligent",
          "Fun",
          "Ambitious",
          "Interests",
          "Attractive"
         ],
         "type": "scatterpolar"
        }
       ],
       "layout": {
        "annotations": [
         {
          "font": {
           "size": 18
          },
          "showarrow": false,
          "text": "Matched",
          "textangle": 0,
          "x": 0.02,
          "xanchor": "center",
          "xref": "paper",
          "y": 0.98,
          "yanchor": "bottom",
          "yref": "paper"
         },
         {
          "font": {
           "size": 18
          },
          "showarrow": false,
          "text": "Gender",
          "textangle": 0,
          "x": 0.37,
          "xanchor": "center",
          "xref": "paper",
          "y": 0.98,
          "yanchor": "bottom",
          "yref": "paper"
         },
         {
          "font": {
           "size": 18
          },
          "showarrow": false,
          "text": "Gender/Matched",
          "textangle": 0,
          "x": 0.72,
          "xanchor": "center",
          "xref": "paper",
          "y": 0.98,
          "yanchor": "bottom",
          "yref": "paper"
         },
         {
          "font": {
           "size": 16
          },
          "showarrow": false,
          "text": "Q1",
          "textangle": 0,
          "x": 0,
          "xanchor": "left",
          "xref": "paper",
          "y": 0.8644444444444445,
          "yanchor": "middle",
          "yref": "paper"
         },
         {
          "font": {
           "size": 16
          },
          "showarrow": false,
          "text": "Q4",
          "textangle": 0,
          "x": 0,
          "xanchor": "left",
          "xref": "paper",
          "y": 0.5,
          "yanchor": "middle",
          "yref": "paper"
         },
         {
          "font": {
           "size": 16
          },
          "showarrow": false,
          "text": "Q2",
          "textangle": 0,
          "x": 0,
          "xanchor": "left",
          "xref": "paper",
          "y": 0.13555555555555557,
          "yanchor": "middle",
          "yref": "paper"
         }
        ],
        "height": 1000,
        "polar": {
         "angularaxis": {
          "direction": "clockwise"
         },
         "domain": {
          "x": [
           0,
           0.27111111111111114
          ],
          "y": [
           0.7288888888888889,
           1
          ]
         },
         "radialaxis": {
          "angle": 0,
          "nticks": 4,
          "range": [
           0,
           36
          ],
          "tickangle": 0
         }
        },
        "polar2": {
         "angularaxis": {
          "direction": "clockwise"
         },
         "domain": {
          "x": [
           0.35444444444444445,
           0.6255555555555556
          ],
          "y": [
           0.7288888888888889,
           1
          ]
         },
         "radialaxis": {
          "angle": 0,
          "nticks": 4,
          "range": [
           0,
           36
          ],
          "tickangle": 0
         }
        },
        "polar3": {
         "angularaxis": {
          "direction": "clockwise"
         },
         "domain": {
          "x": [
           0.7088888888888889,
           0.98
          ],
          "y": [
           0.7288888888888889,
           1
          ]
         },
         "radialaxis": {
          "angle": 0,
          "nticks": 4,
          "range": [
           0,
           36
          ],
          "tickangle": 0
         }
        },
        "polar4": {
         "angularaxis": {
          "direction": "clockwise"
         },
         "domain": {
          "x": [
           0,
           0.27111111111111114
          ],
          "y": [
           0.36444444444444446,
           0.6355555555555557
          ]
         },
         "radialaxis": {
          "angle": 0,
          "nticks": 4,
          "range": [
           0,
           36
          ],
          "tickangle": 0
         }
        },
        "polar5": {
         "angularaxis": {
          "direction": "clockwise"
         },
         "domain": {
          "x": [
           0.35444444444444445,
           0.6255555555555556
          ],
          "y": [
           0.36444444444444446,
           0.6355555555555557
          ]
         },
         "radialaxis": {
          "angle": 0,
          "nticks": 4,
          "range": [
           0,
           36
          ],
          "tickangle": 0
         }
        },
        "polar6": {
         "angularaxis": {
          "direction": "clockwise"
         },
         "domain": {
          "x": [
           0.7088888888888889,
           0.98
          ],
          "y": [
           0.36444444444444446,
           0.6355555555555557
          ]
         },
         "radialaxis": {
          "angle": 0,
          "nticks": 4,
          "range": [
           0,
           36
          ],
          "tickangle": 0
         }
        },
        "polar7": {
         "angularaxis": {
          "direction": "clockwise"
         },
         "domain": {
          "x": [
           0,
           0.27111111111111114
          ],
          "y": [
           0,
           0.27111111111111114
          ]
         },
         "radialaxis": {
          "angle": 0,
          "nticks": 4,
          "range": [
           0,
           36
          ],
          "tickangle": 0
         }
        },
        "polar8": {
         "angularaxis": {
          "direction": "clockwise"
         },
         "domain": {
          "x": [
           0.35444444444444445,
           0.6255555555555556
          ],
          "y": [
           0,
           0.27111111111111114
          ]
         },
         "radialaxis": {
          "angle": 0,
          "nticks": 4,
          "range": [
           0,
           36
          ],
          "tickangle": 0
         }
        },
        "polar9": {
         "angularaxis": {
          "direction": "clockwise"
         },
         "domain": {
          "x": [
           0.7088888888888889,
           0.98
          ],
          "y": [
           0,
           0.27111111111111114
          ]
         },
         "radialaxis": {
          "angle": 0,
          "nticks": 4,
          "range": [
           0,
           36
          ],
          "tickangle": 0
         }
        },
        "showlegend": true,
        "template": {
         "data": {
          "bar": [
           {
            "error_x": {
             "color": "#2a3f5f"
            },
            "error_y": {
             "color": "#2a3f5f"
            },
            "marker": {
             "line": {
              "color": "#E5ECF6",
              "width": 0.5
             },
             "pattern": {
              "fillmode": "overlay",
              "size": 10,
              "solidity": 0.2
             }
            },
            "type": "bar"
           }
          ],
          "barpolar": [
           {
            "marker": {
             "line": {
              "color": "#E5ECF6",
              "width": 0.5
             },
             "pattern": {
              "fillmode": "overlay",
              "size": 10,
              "solidity": 0.2
             }
            },
            "type": "barpolar"
           }
          ],
          "carpet": [
           {
            "aaxis": {
             "endlinecolor": "#2a3f5f",
             "gridcolor": "white",
             "linecolor": "white",
             "minorgridcolor": "white",
             "startlinecolor": "#2a3f5f"
            },
            "baxis": {
             "endlinecolor": "#2a3f5f",
             "gridcolor": "white",
             "linecolor": "white",
             "minorgridcolor": "white",
             "startlinecolor": "#2a3f5f"
            },
            "type": "carpet"
           }
          ],
          "choropleth": [
           {
            "colorbar": {
             "outlinewidth": 0,
             "ticks": ""
            },
            "type": "choropleth"
           }
          ],
          "contour": [
           {
            "colorbar": {
             "outlinewidth": 0,
             "ticks": ""
            },
            "colorscale": [
             [
              0,
              "#0d0887"
             ],
             [
              0.1111111111111111,
              "#46039f"
             ],
             [
              0.2222222222222222,
              "#7201a8"
             ],
             [
              0.3333333333333333,
              "#9c179e"
             ],
             [
              0.4444444444444444,
              "#bd3786"
             ],
             [
              0.5555555555555556,
              "#d8576b"
             ],
             [
              0.6666666666666666,
              "#ed7953"
             ],
             [
              0.7777777777777778,
              "#fb9f3a"
             ],
             [
              0.8888888888888888,
              "#fdca26"
             ],
             [
              1,
              "#f0f921"
             ]
            ],
            "type": "contour"
           }
          ],
          "contourcarpet": [
           {
            "colorbar": {
             "outlinewidth": 0,
             "ticks": ""
            },
            "type": "contourcarpet"
           }
          ],
          "heatmap": [
           {
            "colorbar": {
             "outlinewidth": 0,
             "ticks": ""
            },
            "colorscale": [
             [
              0,
              "#0d0887"
             ],
             [
              0.1111111111111111,
              "#46039f"
             ],
             [
              0.2222222222222222,
              "#7201a8"
             ],
             [
              0.3333333333333333,
              "#9c179e"
             ],
             [
              0.4444444444444444,
              "#bd3786"
             ],
             [
              0.5555555555555556,
              "#d8576b"
             ],
             [
              0.6666666666666666,
              "#ed7953"
             ],
             [
              0.7777777777777778,
              "#fb9f3a"
             ],
             [
              0.8888888888888888,
              "#fdca26"
             ],
             [
              1,
              "#f0f921"
             ]
            ],
            "type": "heatmap"
           }
          ],
          "heatmapgl": [
           {
            "colorbar": {
             "outlinewidth": 0,
             "ticks": ""
            },
            "colorscale": [
             [
              0,
              "#0d0887"
             ],
             [
              0.1111111111111111,
              "#46039f"
             ],
             [
              0.2222222222222222,
              "#7201a8"
             ],
             [
              0.3333333333333333,
              "#9c179e"
             ],
             [
              0.4444444444444444,
              "#bd3786"
             ],
             [
              0.5555555555555556,
              "#d8576b"
             ],
             [
              0.6666666666666666,
              "#ed7953"
             ],
             [
              0.7777777777777778,
              "#fb9f3a"
             ],
             [
              0.8888888888888888,
              "#fdca26"
             ],
             [
              1,
              "#f0f921"
             ]
            ],
            "type": "heatmapgl"
           }
          ],
          "histogram": [
           {
            "marker": {
             "pattern": {
              "fillmode": "overlay",
              "size": 10,
              "solidity": 0.2
             }
            },
            "type": "histogram"
           }
          ],
          "histogram2d": [
           {
            "colorbar": {
             "outlinewidth": 0,
             "ticks": ""
            },
            "colorscale": [
             [
              0,
              "#0d0887"
             ],
             [
              0.1111111111111111,
              "#46039f"
             ],
             [
              0.2222222222222222,
              "#7201a8"
             ],
             [
              0.3333333333333333,
              "#9c179e"
             ],
             [
              0.4444444444444444,
              "#bd3786"
             ],
             [
              0.5555555555555556,
              "#d8576b"
             ],
             [
              0.6666666666666666,
              "#ed7953"
             ],
             [
              0.7777777777777778,
              "#fb9f3a"
             ],
             [
              0.8888888888888888,
              "#fdca26"
             ],
             [
              1,
              "#f0f921"
             ]
            ],
            "type": "histogram2d"
           }
          ],
          "histogram2dcontour": [
           {
            "colorbar": {
             "outlinewidth": 0,
             "ticks": ""
            },
            "colorscale": [
             [
              0,
              "#0d0887"
             ],
             [
              0.1111111111111111,
              "#46039f"
             ],
             [
              0.2222222222222222,
              "#7201a8"
             ],
             [
              0.3333333333333333,
              "#9c179e"
             ],
             [
              0.4444444444444444,
              "#bd3786"
             ],
             [
              0.5555555555555556,
              "#d8576b"
             ],
             [
              0.6666666666666666,
              "#ed7953"
             ],
             [
              0.7777777777777778,
              "#fb9f3a"
             ],
             [
              0.8888888888888888,
              "#fdca26"
             ],
             [
              1,
              "#f0f921"
             ]
            ],
            "type": "histogram2dcontour"
           }
          ],
          "mesh3d": [
           {
            "colorbar": {
             "outlinewidth": 0,
             "ticks": ""
            },
            "type": "mesh3d"
           }
          ],
          "parcoords": [
           {
            "line": {
             "colorbar": {
              "outlinewidth": 0,
              "ticks": ""
             }
            },
            "type": "parcoords"
           }
          ],
          "pie": [
           {
            "automargin": true,
            "type": "pie"
           }
          ],
          "scatter": [
           {
            "marker": {
             "colorbar": {
              "outlinewidth": 0,
              "ticks": ""
             }
            },
            "type": "scatter"
           }
          ],
          "scatter3d": [
           {
            "line": {
             "colorbar": {
              "outlinewidth": 0,
              "ticks": ""
             }
            },
            "marker": {
             "colorbar": {
              "outlinewidth": 0,
              "ticks": ""
             }
            },
            "type": "scatter3d"
           }
          ],
          "scattercarpet": [
           {
            "marker": {
             "colorbar": {
              "outlinewidth": 0,
              "ticks": ""
             }
            },
            "type": "scattercarpet"
           }
          ],
          "scattergeo": [
           {
            "marker": {
             "colorbar": {
              "outlinewidth": 0,
              "ticks": ""
             }
            },
            "type": "scattergeo"
           }
          ],
          "scattergl": [
           {
            "marker": {
             "colorbar": {
              "outlinewidth": 0,
              "ticks": ""
             }
            },
            "type": "scattergl"
           }
          ],
          "scattermapbox": [
           {
            "marker": {
             "colorbar": {
              "outlinewidth": 0,
              "ticks": ""
             }
            },
            "type": "scattermapbox"
           }
          ],
          "scatterpolar": [
           {
            "marker": {
             "colorbar": {
              "outlinewidth": 0,
              "ticks": ""
             }
            },
            "type": "scatterpolar"
           }
          ],
          "scatterpolargl": [
           {
            "marker": {
             "colorbar": {
              "outlinewidth": 0,
              "ticks": ""
             }
            },
            "type": "scatterpolargl"
           }
          ],
          "scatterternary": [
           {
            "marker": {
             "colorbar": {
              "outlinewidth": 0,
              "ticks": ""
             }
            },
            "type": "scatterternary"
           }
          ],
          "surface": [
           {
            "colorbar": {
             "outlinewidth": 0,
             "ticks": ""
            },
            "colorscale": [
             [
              0,
              "#0d0887"
             ],
             [
              0.1111111111111111,
              "#46039f"
             ],
             [
              0.2222222222222222,
              "#7201a8"
             ],
             [
              0.3333333333333333,
              "#9c179e"
             ],
             [
              0.4444444444444444,
              "#bd3786"
             ],
             [
              0.5555555555555556,
              "#d8576b"
             ],
             [
              0.6666666666666666,
              "#ed7953"
             ],
             [
              0.7777777777777778,
              "#fb9f3a"
             ],
             [
              0.8888888888888888,
              "#fdca26"
             ],
             [
              1,
              "#f0f921"
             ]
            ],
            "type": "surface"
           }
          ],
          "table": [
           {
            "cells": {
             "fill": {
              "color": "#EBF0F8"
             },
             "line": {
              "color": "white"
             }
            },
            "header": {
             "fill": {
              "color": "#C8D4E3"
             },
             "line": {
              "color": "white"
             }
            },
            "type": "table"
           }
          ]
         },
         "layout": {
          "annotationdefaults": {
           "arrowcolor": "#2a3f5f",
           "arrowhead": 0,
           "arrowwidth": 1
          },
          "autotypenumbers": "strict",
          "coloraxis": {
           "colorbar": {
            "outlinewidth": 0,
            "ticks": ""
           }
          },
          "colorscale": {
           "diverging": [
            [
             0,
             "#8e0152"
            ],
            [
             0.1,
             "#c51b7d"
            ],
            [
             0.2,
             "#de77ae"
            ],
            [
             0.3,
             "#f1b6da"
            ],
            [
             0.4,
             "#fde0ef"
            ],
            [
             0.5,
             "#f7f7f7"
            ],
            [
             0.6,
             "#e6f5d0"
            ],
            [
             0.7,
             "#b8e186"
            ],
            [
             0.8,
             "#7fbc41"
            ],
            [
             0.9,
             "#4d9221"
            ],
            [
             1,
             "#276419"
            ]
           ],
           "sequential": [
            [
             0,
             "#0d0887"
            ],
            [
             0.1111111111111111,
             "#46039f"
            ],
            [
             0.2222222222222222,
             "#7201a8"
            ],
            [
             0.3333333333333333,
             "#9c179e"
            ],
            [
             0.4444444444444444,
             "#bd3786"
            ],
            [
             0.5555555555555556,
             "#d8576b"
            ],
            [
             0.6666666666666666,
             "#ed7953"
            ],
            [
             0.7777777777777778,
             "#fb9f3a"
            ],
            [
             0.8888888888888888,
             "#fdca26"
            ],
            [
             1,
             "#f0f921"
            ]
           ],
           "sequentialminus": [
            [
             0,
             "#0d0887"
            ],
            [
             0.1111111111111111,
             "#46039f"
            ],
            [
             0.2222222222222222,
             "#7201a8"
            ],
            [
             0.3333333333333333,
             "#9c179e"
            ],
            [
             0.4444444444444444,
             "#bd3786"
            ],
            [
             0.5555555555555556,
             "#d8576b"
            ],
            [
             0.6666666666666666,
             "#ed7953"
            ],
            [
             0.7777777777777778,
             "#fb9f3a"
            ],
            [
             0.8888888888888888,
             "#fdca26"
            ],
            [
             1,
             "#f0f921"
            ]
           ]
          },
          "colorway": [
           "#636efa",
           "#EF553B",
           "#00cc96",
           "#ab63fa",
           "#FFA15A",
           "#19d3f3",
           "#FF6692",
           "#B6E880",
           "#FF97FF",
           "#FECB52"
          ],
          "font": {
           "color": "#2a3f5f"
          },
          "geo": {
           "bgcolor": "white",
           "lakecolor": "white",
           "landcolor": "#E5ECF6",
           "showlakes": true,
           "showland": true,
           "subunitcolor": "white"
          },
          "hoverlabel": {
           "align": "left"
          },
          "hovermode": "closest",
          "mapbox": {
           "style": "light"
          },
          "paper_bgcolor": "white",
          "plot_bgcolor": "#E5ECF6",
          "polar": {
           "angularaxis": {
            "gridcolor": "white",
            "linecolor": "white",
            "ticks": ""
           },
           "bgcolor": "#E5ECF6",
           "radialaxis": {
            "gridcolor": "white",
            "linecolor": "white",
            "ticks": ""
           }
          },
          "scene": {
           "xaxis": {
            "backgroundcolor": "#E5ECF6",
            "gridcolor": "white",
            "gridwidth": 2,
            "linecolor": "white",
            "showbackground": true,
            "ticks": "",
            "zerolinecolor": "white"
           },
           "yaxis": {
            "backgroundcolor": "#E5ECF6",
            "gridcolor": "white",
            "gridwidth": 2,
            "linecolor": "white",
            "showbackground": true,
            "ticks": "",
            "zerolinecolor": "white"
           },
           "zaxis": {
            "backgroundcolor": "#E5ECF6",
            "gridcolor": "white",
            "gridwidth": 2,
            "linecolor": "white",
            "showbackground": true,
            "ticks": "",
            "zerolinecolor": "white"
           }
          },
          "shapedefaults": {
           "line": {
            "color": "#2a3f5f"
           }
          },
          "ternary": {
           "aaxis": {
            "gridcolor": "white",
            "linecolor": "white",
            "ticks": ""
           },
           "baxis": {
            "gridcolor": "white",
            "linecolor": "white",
            "ticks": ""
           },
           "bgcolor": "#E5ECF6",
           "caxis": {
            "gridcolor": "white",
            "linecolor": "white",
            "ticks": ""
           }
          },
          "title": {
           "x": 0.05
          },
          "xaxis": {
           "automargin": true,
           "gridcolor": "white",
           "linecolor": "white",
           "ticks": "",
           "title": {
            "standoff": 15
           },
           "zerolinecolor": "white",
           "zerolinewidth": 2
          },
          "yaxis": {
           "automargin": true,
           "gridcolor": "white",
           "linecolor": "white",
           "ticks": "",
           "title": {
            "standoff": 15
           },
           "zerolinecolor": "white",
           "zerolinewidth": 2
          }
         }
        },
        "title": {
         "text": "After Event"
        }
       }
      }
     },
     "metadata": {},
     "output_type": "display_data"
    }
   ],
   "source": [
    "fig = create_polar()\n",
    "\n",
    "fig.add_traces(\n",
    "    [\n",
    "        go.Scatterpolar(r=evalutation_attribut(match, \"2\", \"1_\"), theta=attribut, fill=\"toself\", name=\"Match 11\", mode=\"lines+markers\"),\n",
    "        go.Scatterpolar(r=evalutation_attribut(male, \"2\", \"1_\"), theta=attribut, fill=\"toself\", name=\"Male 11\", opacity=0.8, mode=\"lines+markers\"),\n",
    "        go.Scatterpolar(r=evalutation_attribut(male_match, \"2\", \"1_\"), theta=attribut, fill=\"toself\", name=\"Male Match 11\", opacity=0.8, mode=\"lines+markers\"),\n",
    "        \n",
    "        go.Scatterpolar(r=evalutation_attribut(match, \"2\", \"4_\"), theta=attribut, fill=\"toself\", name=\"Match 14\", mode=\"lines+markers\"),\n",
    "        go.Scatterpolar(r=evalutation_attribut(male, \"2\", \"4_\"), theta=attribut, fill=\"toself\", name=\"Male 14\", opacity=0.8, mode=\"lines+markers\"),\n",
    "        go.Scatterpolar(r=evalutation_attribut(male_match, \"2\", \"4_\"), theta=attribut, fill=\"toself\", name=\"Male Match 14\", opacity=0.8, mode=\"lines+markers\"),\n",
    "        \n",
    "        go.Scatterpolar(r=evalutation_attribut(match, \"2\", \"2_\"), theta=attribut, fill=\"toself\", name=\"Match 12\", mode=\"lines+markers\"),\n",
    "        go.Scatterpolar(r=evalutation_attribut(male, \"2\", \"2_\"), theta=attribut, fill=\"toself\", name=\"Male 12\", opacity=0.8, mode=\"lines+markers\"),\n",
    "        go.Scatterpolar(r=evalutation_attribut(male_match, \"2\", \"2_\"), theta=attribut, fill=\"toself\", name=\"Male Match 12\", opacity=0.8, mode=\"lines+markers\")\n",
    "    ],\n",
    "    rows=[1, 1, 1, 2, 2, 2, 3, 3, 3], cols=[1, 2, 3, 1, 2, 3, 1, 2, 3]\n",
    ")\n",
    "\n",
    "fig.add_traces(\n",
    "    [\n",
    "        go.Scatterpolar(r=evalutation_attribut(female, \"2\", \"1_\"), theta=attribut, fill=\"toself\", name=\"Female 11\", opacity=1, mode=\"lines+markers\"),\n",
    "        go.Scatterpolar(r=evalutation_attribut(female_match, \"2\", \"1_\"), theta=attribut, fill=\"toself\", name=\"Female Match 11\", opacity=1, mode=\"lines+markers\"),\n",
    "        \n",
    "        go.Scatterpolar(r=evalutation_attribut(female, \"2\", \"4_\"), theta=attribut, fill=\"toself\", name=\"Female 14\", opacity=1, mode=\"lines+markers\"),\n",
    "        go.Scatterpolar(r=evalutation_attribut(female_match, \"2\", \"4_\"), theta=attribut, fill=\"toself\", name=\"Female Match 14\", opacity=1, mode=\"lines+markers\"),\n",
    "        \n",
    "        go.Scatterpolar(r=evalutation_attribut(female, \"2\", \"2_\"), theta=attribut, fill=\"toself\", name=\"Female 12\", opacity=1, mode=\"lines+markers\"),\n",
    "        go.Scatterpolar(r=evalutation_attribut(female_match, \"2\", \"2_\"), theta=attribut, fill=\"toself\", name=\"Female Match 12\", opacity=1, mode=\"lines+markers\")\n",
    "    ],\n",
    "    rows=[1, 1, 2, 2, 3, 3], cols=[2, 3, 2, 3, 2, 3]\n",
    ")\n",
    "\n",
    "fig.update_layout(height=1000, showlegend=True, title=\"After Event\")"
   ]
  },
  {
   "cell_type": "markdown",
   "metadata": {},
   "source": [
    "#### **Question 2**\n",
    "\n",
    "> - Does correlation between participant’s and partner’s ratings of interests has an impact on getting a second date?<br>\n",
    "\n",
    "*Evaluation of the variable **int_corr**:*\n",
    "\n",
    "> - int_corr: correlation between participant’s and partner’s ratings of interests in Time 1<br>"
   ]
  },
  {
   "cell_type": "code",
   "execution_count": 6,
   "metadata": {},
   "outputs": [],
   "source": [
    "df = pd.DataFrame(columns=[\"id\", \"int_corr_ok\", \"int_corr_nok\"])\n",
    "\n",
    "for i in range(len(dataset)):\n",
    "    df_match_ok = dataset.loc[dataset[\"match\"] == 1, :]\n",
    "    df_match_nok = dataset.loc[dataset[\"match\"] == 0, :]\n",
    "    \n",
    "    df_match_ok = df_match_ok.loc[df_match_ok[\"iid\"] == i+1, :]\n",
    "    df_match_nok = df_match_nok.loc[df_match_nok[\"iid\"] == i+1, :]\n",
    "    \n",
    "    df_match_ok = df_match_ok[[\"int_corr\"]]\n",
    "    df_match_nok = df_match_nok[[\"int_corr\"]]\n",
    "    \n",
    "    int_corr_ok = df_match_ok.int_corr.abs().mean()\n",
    "    int_corr_nok = df_match_nok.int_corr.abs().mean()\n",
    "    \n",
    "    df_new_row = pd.DataFrame(data=np.array([[i+1, int_corr_ok, int_corr_nok]]), columns=df.columns)\n",
    "    df = pd.concat([df, df_new_row], ignore_index=True)\n",
    "\n",
    "df = df.dropna()"
   ]
  },
  {
   "cell_type": "code",
   "execution_count": 7,
   "metadata": {},
   "outputs": [
    {
     "data": {
      "image/png": "[encoded data removed]",
      "text/plain": [
       "<Figure size 1080x720 with 1 Axes>"
      ]
     },
     "metadata": {
      "needs_background": "light"
     },
     "output_type": "display_data"
    }
   ],
   "source": [
    "plt.figure(figsize=(15, 10))\n",
    "plt.plot(df, df.int_corr_ok, \"b--\", df, df.int_corr_nok, \"rs\")\n",
    "plt.show()"
   ]
  },
  {
   "cell_type": "markdown",
   "metadata": {},
   "source": [
    "#### **Question 3**\n",
    "\n",
    "> - In terms of getting a second date, is it better to be someone's first speed date of the night or their last?<br>\n",
    "\n",
    "*Observation of the variable **order**:*\n",
    "\n",
    "> - order: the number of date that night when met partner<br>"
   ]
  },
  {
   "cell_type": "code",
   "execution_count": 9,
   "metadata": {},
   "outputs": [
    {
     "data": {
      "image/png": "[encoded data removed]",
      "text/plain": [
       "<Figure size 1080x576 with 1 Axes>"
      ]
     },
     "metadata": {
      "needs_background": "light"
     },
     "output_type": "display_data"
    }
   ],
   "source": [
    "# normalisation = (x - xmin) / (xmax - x)\n",
    "# standardisation = (x - mean) / std\n",
    "\n",
    "df = pd.DataFrame(columns=[\"iid\", \"order\", \"match\", \"norm\"])\n",
    "\n",
    "for i in range(len(dataset[\"iid\"].unique())):\n",
    "    df_norm = dataset[[\"iid\", \"order\", \"match\"]]\n",
    "    \n",
    "    try:\n",
    "        df_norm = df_norm.loc[df_norm[\"iid\"] == i+1]\n",
    "        xmin = df_norm[\"order\"].min()\n",
    "        xmax = df_norm[\"order\"].max()\n",
    "        df_norm[\"norm\"] = df_norm.apply(lambda x: ((x[\"order\"] - xmin) / (xmax - xmin)), axis=1)\n",
    "        df = pd.concat([df, df_norm], ignore_index=True, axis=0)\n",
    "    except:\n",
    "        pass\n",
    "\n",
    "df = df.loc[df[\"match\"] == 1]\n",
    "df = df.loc[(df[\"norm\"] == 1) | (df[\"norm\"] == 0), :]\n",
    "df[\"percent\"] = df[\"norm\"].apply(lambda x: \"first\" if x == 0\n",
    "                                                   else \"last\" if x == 1\n",
    "                                                   else \"nothing\")\n",
    "\n",
    "first = df[\"percent\"].value_counts()[\"first\"] / len(df)\n",
    "last = df[\"percent\"].value_counts()[\"last\"] / len(df)\n",
    "\n",
    "def percent(liste, graph):\n",
    "    i = 0\n",
    "    for p in graph:\n",
    "        width = p.get_width()\n",
    "        height = p.get_height()\n",
    "        x, y = p.get_xy()\n",
    "        plt.text(x+width/2, y+height/2, str(round(liste[i], 2))+\"%\")\n",
    "        i += 1\n",
    "\n",
    "plt.figure(figsize=(15, 8))\n",
    "graph = plt.bar([\"first\", \"last\"], [first, last])\n",
    "percent([first, last], graph)\n",
    "plt.show()"
   ]
  }
 ],
 "metadata": {
  "interpreter": {
   "hash": "5a5cbf13dbd0b57ea6fcb4b79c56f1a3c3ccfe47af6b515f49de13c71807f124"
  },
  "kernelspec": {
   "display_name": "Python 3.8.5 64-bit",
   "language": "python",
   "name": "python3"
  },
  "language_info": {
   "codemirror_mode": {
    "name": "ipython",
    "version": 3
   },
   "file_extension": ".py",
   "mimetype": "text/x-python",
   "name": "python",
   "nbconvert_exporter": "python",
   "pygments_lexer": "ipython3",
   "version": "3.8.5"
  },
  "orig_nbformat": 4
 },
 "nbformat": 4,
 "nbformat_minor": 2
}
