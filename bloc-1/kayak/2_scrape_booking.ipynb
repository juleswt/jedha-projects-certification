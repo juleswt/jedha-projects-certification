{
 "cells": [
  {
   "cell_type": "markdown",
   "metadata": {},
   "source": [
    "### Import libraries"
   ]
  },
  {
   "cell_type": "code",
   "execution_count": null,
   "metadata": {},
   "outputs": [],
   "source": [
    "import os\n",
    "import scrapy\n",
    "import logging\n",
    "from scrapy.crawler import CrawlerProcess"
   ]
  },
  {
   "cell_type": "markdown",
   "metadata": {},
   "source": [
    "### Scrape Booking.com"
   ]
  },
  {
   "cell_type": "code",
   "execution_count": null,
   "metadata": {},
   "outputs": [],
   "source": [
    "cities = [\n",
    "    \"Mont Saint Michel\", \"St Malo\", \"Bayeux\", \"Le Havre\", \"Rouen\", \"Paris\",\n",
    "    \"Amiens\", \"Lille\", \"Strasbourg\", \"Chateau du Haut Koenigsbourg\", \"Colmar\",\n",
    "    \"Eguisheim\", \"Besancon\", \"Dijon\", \"Annecy\", \"Grenoble\", \"Lyon\", \"Gorges du Verdon\",\n",
    "    \"Bormes les Mimosas\", \"Cassis\", \"Marseille\", \"Aix en Provence\", \"Avignon\", \"Uzes\",\n",
    "    \"Nimes\", \"Aigues Mortes\", \"Saintes Maries de la mer\", \"Collioure\", \"Carcassonne\",\n",
    "    \"Ariege\", \"Toulouse\", \"Montauban\", \"Biarritz\", \"Bayonne\", \"La Rochelle\"\n",
    "]"
   ]
  },
  {
   "cell_type": "code",
   "execution_count": null,
   "metadata": {},
   "outputs": [],
   "source": [
    "class BookingSpider(scrapy.Spider):\n",
    "    \n",
    "    name = \"Booking\"\n",
    "    start_urls = [\"https://www.booking.com/index.en-gb.html?label=gen173nr-1DCAEoggI46AdIM1gEaE2IAQGYAQm4ARfIAQzYAQPoAQGIAgGoAgO4AqbJwIsGwAIB0gIkNmVmMzgzMDMtNzU2OS00Yjg1LTlkNTctY2YzZDE2YWRjMzkw2AIE4AIB;sid=02025d674e66a5c598e16c66ad1e8862;keep_landing=1;sb_price_type=total;sig=v1RAqdEvO5&\"]\n",
    "    \n",
    "    count_hotel = 0\n",
    "    count_city = -1\n",
    "    \n",
    "    def parse(self, response):\n",
    "        self.count_city += 1\n",
    "        \n",
    "        return scrapy.FormRequest.from_response(\n",
    "            response,\n",
    "            formdata = {\"ss\": cities[self.count_city]},\n",
    "            callback = self.after_search\n",
    "        )\n",
    "    \n",
    "    def after_search(self, response):\n",
    "        hotels = response.css(\"div._5d6c618c8\")\n",
    "        \n",
    "        for hotel in hotels:\n",
    "            self.count_hotel += 1\n",
    "            \n",
    "            fkey = self.count_city+1\n",
    "            city = cities[self.count_city]\n",
    "            name = hotel.css(\"div.fde444d7ef::text\").get()\n",
    "            href = hotel.css(\"a.fb01724e5b\").attrib[\"href\"]\n",
    "            desc = hotel.css(\"div._29c344764 div._4abc4c3d5::text\").get()\n",
    "            scor = hotel.css(\"div.bd528f9ea6::text\").get()\n",
    "            \n",
    "            yield scrapy.Request(\n",
    "                href,\n",
    "                callback=self.parse_page,\n",
    "                meta={\n",
    "                    \"h_fkey\": fkey,\n",
    "                    \"h_city\": city,\n",
    "                    \"h_name\": name,\n",
    "                    \"h_href\": href,\n",
    "                    \"h_desc\": desc,\n",
    "                    \"h_scor\": scor\n",
    "                }\n",
    "            )\n",
    "        \n",
    "        if self.count_hotel < 30:\n",
    "            try:\n",
    "                next_page = response.url + \"&offset=25\"\n",
    "            except KeyError:\n",
    "                logging.info(\"Plus de pages. Crawling fini\")\n",
    "            else:\n",
    "                yield response.follow(next_page, callback=self.after_search)\n",
    "        \n",
    "        else:\n",
    "            if self.count_city < len(cities)-1:\n",
    "                self.count_hotel = 0\n",
    "                \n",
    "                yield response.follow(\n",
    "                    \"https://www.booking.com/index.en-gb.html?label=gen173nr-1DCAEoggI46AdIM1gEaE2IAQGYAQm4ARfIAQzYAQPoAQGIAgGoAgO4AqbJwIsGwAIB0gIkNmVmMzgzMDMtNzU2OS00Yjg1LTlkNTctY2YzZDE2YWRjMzkw2AIE4AIB;sid=02025d674e66a5c598e16c66ad1e8862;keep_landing=1;sb_price_type=total;sig=v1RAqdEvO5&\",\n",
    "                    callback=self.parse,\n",
    "                    dont_filter=True\n",
    "                )\n",
    "            \n",
    "            else:\n",
    "                pass\n",
    "    \n",
    "    def parse_page(self, response):\n",
    "        yield {\n",
    "            \"fkey\": response.meta.get(\"h_fkey\"),\n",
    "            \"city\": response.meta.get(\"h_city\"),\n",
    "            \"name\": response.meta.get(\"h_name\"),\n",
    "            \"hurl\": response.meta.get(\"h_href\"),\n",
    "            \"scor\": response.meta.get(\"h_scor\"),\n",
    "            \"desc\": response.meta.get(\"h_desc\"),\n",
    "            \"lati\": response.css(\"a.jq_tooltip::attr(data-atlas-latlng)\").get().split(\",\")[0],\n",
    "            \"long\": response.css(\"a.jq_tooltip::attr(data-atlas-latlng)\").get().split(\",\")[1]\n",
    "        }"
   ]
  },
  {
   "cell_type": "code",
   "execution_count": null,
   "metadata": {},
   "outputs": [],
   "source": [
    "filename = \"src/scrape_booking.json\"\n",
    "\n",
    "if filename in os.listdir(\"./\"):\n",
    "    os.remove(filename)\n",
    "\n",
    "process = CrawlerProcess(\n",
    "    settings={\n",
    "        \"USER_AGENT\": \"Mozilla/5.0 (Windows NT 10.0; Win64; x64) AppleWebKit/537.36 (KHTML, like Gecko) Chrome/94.0.4606.81 Safari/537.36\",\n",
    "        \"LOG_LEVEL\": logging.INFO,\n",
    "        \"FEEDS\": {filename: {\"format\": \"json\"}}\n",
    "    }\n",
    ")\n",
    "\n",
    "process.crawl(BookingSpider)\n",
    "process.start()"
   ]
  }
 ],
 "metadata": {
  "language_info": {
   "name": "python"
  },
  "orig_nbformat": 4
 },
 "nbformat": 4,
 "nbformat_minor": 2
}
